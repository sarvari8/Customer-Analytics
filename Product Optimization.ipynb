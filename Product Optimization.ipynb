{
 "cells": [
  {
   "cell_type": "code",
   "execution_count": 1,
   "metadata": {
    "id": "k2aAZKzMxrt8"
   },
   "outputs": [],
   "source": [
    "import numpy as np\n",
    "import pandas as pd\n",
    "import itertools\n",
    "import matplotlib.pyplot as plt\n",
    "import seaborn as sns\n",
    "pd.set_option('display.max_columns', None)"
   ]
  },
  {
   "cell_type": "markdown",
   "metadata": {},
   "source": [
    "### Question 1:"
   ]
  },
  {
   "cell_type": "code",
   "execution_count": 2,
   "metadata": {
    "id": "ymx2CyWOxuND"
   },
   "outputs": [],
   "source": [
    "preference_df = pd.read_csv('mugs-preference-parameters-full.csv')\n",
    "c = 0.0139"
   ]
  },
  {
   "cell_type": "code",
   "execution_count": 3,
   "metadata": {
    "id": "Yp8_G422yGsv"
   },
   "outputs": [],
   "source": [
    "Imp_Matrix = preference_df.iloc[:,-6:]\n",
    "Feature_Matrix = preference_df.iloc[:,:-6]"
   ]
  },
  {
   "cell_type": "code",
   "execution_count": 4,
   "metadata": {
    "id": "bwjkPdw54Y1E"
   },
   "outputs": [],
   "source": [
    "multiplier = {\" pPr30\": \" IPr\",\" pPr10\": \" IPr\",\" pPr05\": \" IPr\",\n",
    "              \"pIn0.5\": \"Iin\", \"pIn1\": \"Iin\", \"pIn3\": \"Iin\",\n",
    "              \" pCp12\": \" ICp\", \" pCp20\": \" ICp\", \" pCp32\": \" ICp\", \n",
    "              \" pClD\": \" ICl\", \" pClF\": \" ICl\", \" pClE\": \" ICl\", \n",
    "              \"pCnSl\": \"Icn\",\"pCnSp\": \"Icn\", \"pCnLk\": \"Icn\", \n",
    "              \" pBrA\": \" IBr\",\" pBrB\": \" IBr\", \" pBrC\": \" IBr\"}"
   ]
  },
  {
   "cell_type": "code",
   "execution_count": 5,
   "metadata": {
    "colab": {
     "base_uri": "https://localhost:8080/",
     "height": 488
    },
    "id": "uIBlkFQp1RuC",
    "outputId": "bd0c7fa7-5078-4944-9032-a05412784f9e"
   },
   "outputs": [],
   "source": [
    "Weighted_Feature = Feature_Matrix.copy()"
   ]
  },
  {
   "cell_type": "code",
   "execution_count": 6,
   "metadata": {
    "colab": {
     "base_uri": "https://localhost:8080/",
     "height": 488
    },
    "id": "ZVJEWh6m5wLO",
    "outputId": "82aef62e-5b11-4e4a-ef6e-245f0b92dcd7"
   },
   "outputs": [],
   "source": [
    "for col1, col2 in multiplier.items():\n",
    "    Weighted_Feature[col1] = Weighted_Feature[col1] * Imp_Matrix[col2]"
   ]
  },
  {
   "cell_type": "code",
   "execution_count": 7,
   "metadata": {
    "colab": {
     "base_uri": "https://localhost:8080/",
     "height": 143
    },
    "id": "AnKnB7WW64YR",
    "outputId": "418b6ea1-79d5-4ed3-8d1e-31fc8fedf550"
   },
   "outputs": [],
   "source": [
    "Brands = pd.DataFrame([[\" pPr30\", \"pIn3\",\" pCp20\",\" pClE\", \"pCnLk\", \" pBrA\"],\n",
    "          [\" pPr10\", \"pIn1\",\" pCp20\",\" pClF\", \"pCnSp\", \" pBrB\"],\n",
    "          [\" pPr30\", \"pIn1\",\" pCp20\",\" pClE\", \"pCnLk\", \" pBrC\"]])"
   ]
  },
  {
   "cell_type": "code",
   "execution_count": 8,
   "metadata": {
    "colab": {
     "base_uri": "https://localhost:8080/",
     "height": 424
    },
    "id": "ORvKYFIibCnD",
    "outputId": "ac745a27-8077-4a20-cea1-5ca2ce93ab21"
   },
   "outputs": [],
   "source": [
    "out_1 = [ ]\n",
    "for index, rows in Weighted_Feature.iterrows():\n",
    "    out = []\n",
    "    for rows_1 in Brands.itertuples():\n",
    "        cols = list(rows_1)\n",
    "        cols.pop(0)\n",
    "        U = rows.loc[cols].sum()\n",
    "        out.append(U)\n",
    "    out_1.append(out)\n",
    "    \n",
    "a = np.exp(np.multiply(c,out_1))\n",
    "probs = pd.DataFrame(a)\n",
    "probs['sum'] = probs.sum(axis=1)"
   ]
  },
  {
   "cell_type": "code",
   "execution_count": 9,
   "metadata": {
    "colab": {
     "base_uri": "https://localhost:8080/",
     "height": 424
    },
    "id": "H6cgNxqebCnE",
    "outputId": "d353967b-fddf-49ef-f63d-06848cdc7c8d"
   },
   "outputs": [],
   "source": [
    "probs.iloc[:, :3] = probs.iloc[:, :3].div(probs.iloc[:, -1], axis=0)"
   ]
  },
  {
   "cell_type": "code",
   "execution_count": 10,
   "metadata": {
    "id": "hVfgL2LzbCnE"
   },
   "outputs": [],
   "source": [
    "means = np.array([probs.iloc[:, i].mean() for i in range(3)]) #these are the shares"
   ]
  },
  {
   "cell_type": "code",
   "execution_count": 11,
   "metadata": {
    "colab": {
     "base_uri": "https://localhost:8080/"
    },
    "id": "IPq4poKPbCnE",
    "outputId": "80123aff-431b-4b9b-a892-f129ed07c477"
   },
   "outputs": [
    {
     "name": "stdout",
     "output_type": "stream",
     "text": [
      "Share for P3: 0.19452610767391657\n"
     ]
    }
   ],
   "source": [
    "print('Share for P3:', means[2])"
   ]
  },
  {
   "cell_type": "code",
   "execution_count": 12,
   "metadata": {
    "colab": {
     "base_uri": "https://localhost:8080/"
    },
    "id": "uVwE0uFnbCnF",
    "outputId": "b3eb6e54-1d82-4540-9341-c36571a7203f"
   },
   "outputs": [
    {
     "name": "stdout",
     "output_type": "stream",
     "text": [
      "7.6 22.4 4.357384811895731\n"
     ]
    }
   ],
   "source": [
    "cost_p3 = 1.0 + 2.6 + 3.0 + 1.0 \n",
    "margin_p3 = 30 - cost_p3\n",
    "EPP_p3 = means[2] * margin_p3\n",
    "print(cost_p3, margin_p3, EPP_p3)"
   ]
  },
  {
   "cell_type": "markdown",
   "metadata": {
    "id": "QWSeafYSbCnF"
   },
   "source": [
    "***\n",
    "### Question 2:"
   ]
  },
  {
   "cell_type": "code",
   "execution_count": 13,
   "metadata": {
    "colab": {
     "base_uri": "https://localhost:8080/",
     "height": 206
    },
    "id": "BxtbNqFWbCnF",
    "outputId": "15831118-6eaf-4639-a131-67d313b4f041"
   },
   "outputs": [],
   "source": [
    "cost = {\n",
    "    \" pPr30\":0, \n",
    "    \" pPr10\":0,\n",
    "    \" pPr05\":0,\n",
    "    \"pIn0.5\":0.5,\n",
    "    \"pIn1\":1, \n",
    "    \"pIn3\":3,\n",
    "    \" pCp12\":1.0,\n",
    "    \" pCp20\":2.6, \n",
    "    \" pCp32\":2.8,\n",
    "    \" pClD\":1.0, \n",
    "    \" pClF\":2.2,\n",
    "    \" pClE\":3.0,\n",
    "    \"pCnSl\":0.5, \n",
    "    \"pCnSp\":0.8, \n",
    "    \"pCnLk\":1.0,\n",
    "    \" pBrA\":0,\n",
    "    \" pBrB\":0, \n",
    "    \" pBrC\":0\n",
    "}\n",
    "\n",
    "cost_arr = pd.DataFrame([[\" pPr30\", \" pPr10\", \" pPr05\"],\n",
    "                         [\"pIn0.5\", \"pIn1\", \"pIn3\"],\n",
    "                         [\" pCp12\", \" pCp20\", \" pCp32\"],\n",
    "                         [\" pClD\", \" pClF\", \" pClE\"], \n",
    "                         [\"pCnSl\", \"pCnSp\", \"pCnLk\"]])"
   ]
  },
  {
   "cell_type": "code",
   "execution_count": 14,
   "metadata": {
    "colab": {
     "base_uri": "https://localhost:8080/",
     "height": 424
    },
    "id": "xtvDhlmUX-j-",
    "outputId": "8b181a4a-ed6e-4cbc-e5ce-274afcf4e286"
   },
   "outputs": [],
   "source": [
    "#enumerating all possible candidate products\n",
    "Pr = [' pPr30',' pPr10',' pPr05']\n",
    "In = ['pIn0.5','pIn1','pIn3']\n",
    "Cp = [' pCp12',' pCp20',' pCp32']\n",
    "Cl = [' pClD',' pClF',' pClE']\n",
    "Cn = ['pCnSl','pCnSp','pCnLk']\n",
    "lists = [Pr, In, Cp, Cl, Cn]\n",
    "all_prod = pd.DataFrame(list(itertools.product(*lists)), columns=['Pr', 'In', 'Cp', 'Cl', 'Cn'])\n",
    "all_prod['Brand'] = ' pBrC'"
   ]
  },
  {
   "cell_type": "code",
   "execution_count": 15,
   "metadata": {
    "id": "SWAsCQXxA3Bv"
   },
   "outputs": [],
   "source": [
    "#calculating utilities\n",
    "out_2 = [ ]\n",
    "for index, rows in Weighted_Feature.iterrows():\n",
    "    out_3 = []\n",
    "    for rows_1 in all_prod.itertuples():\n",
    "        cols = list(rows_1)\n",
    "        cols.pop(0)\n",
    "        U1 = rows.loc[cols].sum()\n",
    "        out_3.append(U1)\n",
    "    out_2.append(out_3)"
   ]
  },
  {
   "cell_type": "code",
   "execution_count": 16,
   "metadata": {
    "colab": {
     "base_uri": "https://localhost:8080/",
     "height": 424
    },
    "id": "U9lhb0B2fs9F",
    "outputId": "0c03ab2e-b652-4cf4-8872-70abc180eb18"
   },
   "outputs": [],
   "source": [
    "cost_func = [ ]\n",
    "for index, row in all_prod.iterrows():\n",
    "    cols = 0\n",
    "    for col_name, value in row.items():\n",
    "        cols = cols+cost.get(value)\n",
    "    cost_func.append(cols)    \n",
    "cost_function = pd.DataFrame(cost_func)"
   ]
  },
  {
   "cell_type": "code",
   "execution_count": 17,
   "metadata": {
    "colab": {
     "base_uri": "https://localhost:8080/",
     "height": 424
    },
    "id": "gXqh4tUzJt-T",
    "outputId": "d6850c88-a423-41ff-88d3-e481aa3cef13"
   },
   "outputs": [],
   "source": [
    "all_prod_final = all_prod.copy()\n",
    "all_prod_final['cost'] = cost_function.iloc[:,:]"
   ]
  },
  {
   "cell_type": "code",
   "execution_count": 18,
   "metadata": {
    "colab": {
     "base_uri": "https://localhost:8080/",
     "height": 488
    },
    "id": "klhtH7VEbCnG",
    "outputId": "8c7f8654-bc8d-4eee-8b3c-d91f2c96b8c1"
   },
   "outputs": [],
   "source": [
    "a1 = np.exp(np.multiply(c,out_2))\n",
    "probs1 = pd.DataFrame(a1) \n",
    "probs1['sum'] = probs.sum(axis=1)"
   ]
  },
  {
   "cell_type": "code",
   "execution_count": 19,
   "metadata": {
    "colab": {
     "base_uri": "https://localhost:8080/",
     "height": 488
    },
    "id": "_j4lgK_WbCnG",
    "outputId": "22bb7840-0318-4742-9b52-5af2e8908568"
   },
   "outputs": [],
   "source": [
    "probs1.iloc[:, :243] = probs1.iloc[:, :243].div(probs1.iloc[:, -1], axis=0)"
   ]
  },
  {
   "cell_type": "code",
   "execution_count": 20,
   "metadata": {
    "colab": {
     "base_uri": "https://localhost:8080/"
    },
    "id": "LCJLxrXxbCnH",
    "outputId": "f69a4ec4-231a-4ab7-aa4d-31320e564bf7"
   },
   "outputs": [],
   "source": [
    "means1 = np.array([probs1.iloc[:, i].mean() for i in range(243)]) #shares for 243 products"
   ]
  },
  {
   "cell_type": "code",
   "execution_count": 21,
   "metadata": {
    "colab": {
     "base_uri": "https://localhost:8080/",
     "height": 424
    },
    "id": "4GASJ__QKMLu",
    "outputId": "01d623bd-60da-4f59-d07f-9f4621682456"
   },
   "outputs": [],
   "source": [
    "means_1 = pd.DataFrame(means1)\n",
    "all_prod_final['Share'] = means_1.iloc[:,:]"
   ]
  },
  {
   "cell_type": "code",
   "execution_count": 22,
   "metadata": {
    "colab": {
     "base_uri": "https://localhost:8080/",
     "height": 478
    },
    "id": "oWptmIIsMjxX",
    "outputId": "bd1e2a03-89ee-43ee-a15f-6b370a19bdfd"
   },
   "outputs": [
    {
     "data": {
      "text/html": [
       "<div>\n",
       "<style scoped>\n",
       "    .dataframe tbody tr th:only-of-type {\n",
       "        vertical-align: middle;\n",
       "    }\n",
       "\n",
       "    .dataframe tbody tr th {\n",
       "        vertical-align: top;\n",
       "    }\n",
       "\n",
       "    .dataframe thead th {\n",
       "        text-align: right;\n",
       "    }\n",
       "</style>\n",
       "<table border=\"1\" class=\"dataframe\">\n",
       "  <thead>\n",
       "    <tr style=\"text-align: right;\">\n",
       "      <th></th>\n",
       "      <th>Pr</th>\n",
       "      <th>In</th>\n",
       "      <th>Cp</th>\n",
       "      <th>Cl</th>\n",
       "      <th>Cn</th>\n",
       "      <th>Brand</th>\n",
       "      <th>cost</th>\n",
       "      <th>Share</th>\n",
       "      <th>margin</th>\n",
       "      <th>EPP</th>\n",
       "    </tr>\n",
       "  </thead>\n",
       "  <tbody>\n",
       "    <tr>\n",
       "      <th>0</th>\n",
       "      <td>30</td>\n",
       "      <td>0.5</td>\n",
       "      <td>12</td>\n",
       "      <td>Difficult</td>\n",
       "      <td>Slosh</td>\n",
       "      <td>C</td>\n",
       "      <td>3.0</td>\n",
       "      <td>0.016842</td>\n",
       "      <td>27.0</td>\n",
       "      <td>0.454734</td>\n",
       "    </tr>\n",
       "    <tr>\n",
       "      <th>1</th>\n",
       "      <td>30</td>\n",
       "      <td>0.5</td>\n",
       "      <td>12</td>\n",
       "      <td>Difficult</td>\n",
       "      <td>Spill</td>\n",
       "      <td>C</td>\n",
       "      <td>3.3</td>\n",
       "      <td>0.027773</td>\n",
       "      <td>26.7</td>\n",
       "      <td>0.741533</td>\n",
       "    </tr>\n",
       "    <tr>\n",
       "      <th>2</th>\n",
       "      <td>30</td>\n",
       "      <td>0.5</td>\n",
       "      <td>12</td>\n",
       "      <td>Difficult</td>\n",
       "      <td>Leak</td>\n",
       "      <td>C</td>\n",
       "      <td>3.5</td>\n",
       "      <td>0.042391</td>\n",
       "      <td>26.5</td>\n",
       "      <td>1.123363</td>\n",
       "    </tr>\n",
       "    <tr>\n",
       "      <th>3</th>\n",
       "      <td>30</td>\n",
       "      <td>0.5</td>\n",
       "      <td>12</td>\n",
       "      <td>Fair</td>\n",
       "      <td>Slosh</td>\n",
       "      <td>C</td>\n",
       "      <td>4.2</td>\n",
       "      <td>0.031501</td>\n",
       "      <td>25.8</td>\n",
       "      <td>0.812736</td>\n",
       "    </tr>\n",
       "    <tr>\n",
       "      <th>4</th>\n",
       "      <td>30</td>\n",
       "      <td>0.5</td>\n",
       "      <td>12</td>\n",
       "      <td>Fair</td>\n",
       "      <td>Spill</td>\n",
       "      <td>C</td>\n",
       "      <td>4.5</td>\n",
       "      <td>0.050542</td>\n",
       "      <td>25.5</td>\n",
       "      <td>1.288813</td>\n",
       "    </tr>\n",
       "    <tr>\n",
       "      <th>...</th>\n",
       "      <td>...</td>\n",
       "      <td>...</td>\n",
       "      <td>...</td>\n",
       "      <td>...</td>\n",
       "      <td>...</td>\n",
       "      <td>...</td>\n",
       "      <td>...</td>\n",
       "      <td>...</td>\n",
       "      <td>...</td>\n",
       "      <td>...</td>\n",
       "    </tr>\n",
       "    <tr>\n",
       "      <th>238</th>\n",
       "      <td>5</td>\n",
       "      <td>3.0</td>\n",
       "      <td>32</td>\n",
       "      <td>Fair</td>\n",
       "      <td>Spill</td>\n",
       "      <td>C</td>\n",
       "      <td>8.8</td>\n",
       "      <td>2.718236</td>\n",
       "      <td>-3.8</td>\n",
       "      <td>-10.329299</td>\n",
       "    </tr>\n",
       "    <tr>\n",
       "      <th>239</th>\n",
       "      <td>5</td>\n",
       "      <td>3.0</td>\n",
       "      <td>32</td>\n",
       "      <td>Fair</td>\n",
       "      <td>Leak</td>\n",
       "      <td>C</td>\n",
       "      <td>9.0</td>\n",
       "      <td>4.385856</td>\n",
       "      <td>-4.0</td>\n",
       "      <td>-17.543423</td>\n",
       "    </tr>\n",
       "    <tr>\n",
       "      <th>240</th>\n",
       "      <td>5</td>\n",
       "      <td>3.0</td>\n",
       "      <td>32</td>\n",
       "      <td>Easy</td>\n",
       "      <td>Slosh</td>\n",
       "      <td>C</td>\n",
       "      <td>9.3</td>\n",
       "      <td>2.971426</td>\n",
       "      <td>-4.3</td>\n",
       "      <td>-12.777130</td>\n",
       "    </tr>\n",
       "    <tr>\n",
       "      <th>241</th>\n",
       "      <td>5</td>\n",
       "      <td>3.0</td>\n",
       "      <td>32</td>\n",
       "      <td>Easy</td>\n",
       "      <td>Spill</td>\n",
       "      <td>C</td>\n",
       "      <td>9.6</td>\n",
       "      <td>4.082659</td>\n",
       "      <td>-4.6</td>\n",
       "      <td>-18.780233</td>\n",
       "    </tr>\n",
       "    <tr>\n",
       "      <th>242</th>\n",
       "      <td>5</td>\n",
       "      <td>3.0</td>\n",
       "      <td>32</td>\n",
       "      <td>Easy</td>\n",
       "      <td>Leak</td>\n",
       "      <td>C</td>\n",
       "      <td>9.8</td>\n",
       "      <td>6.440523</td>\n",
       "      <td>-4.8</td>\n",
       "      <td>-30.914510</td>\n",
       "    </tr>\n",
       "  </tbody>\n",
       "</table>\n",
       "<p>243 rows × 10 columns</p>\n",
       "</div>"
      ],
      "text/plain": [
       "     Pr   In  Cp         Cl     Cn Brand  cost     Share  margin        EPP\n",
       "0    30  0.5  12  Difficult  Slosh     C   3.0  0.016842    27.0   0.454734\n",
       "1    30  0.5  12  Difficult  Spill     C   3.3  0.027773    26.7   0.741533\n",
       "2    30  0.5  12  Difficult   Leak     C   3.5  0.042391    26.5   1.123363\n",
       "3    30  0.5  12       Fair  Slosh     C   4.2  0.031501    25.8   0.812736\n",
       "4    30  0.5  12       Fair  Spill     C   4.5  0.050542    25.5   1.288813\n",
       "..   ..  ...  ..        ...    ...   ...   ...       ...     ...        ...\n",
       "238   5  3.0  32       Fair  Spill     C   8.8  2.718236    -3.8 -10.329299\n",
       "239   5  3.0  32       Fair   Leak     C   9.0  4.385856    -4.0 -17.543423\n",
       "240   5  3.0  32       Easy  Slosh     C   9.3  2.971426    -4.3 -12.777130\n",
       "241   5  3.0  32       Easy  Spill     C   9.6  4.082659    -4.6 -18.780233\n",
       "242   5  3.0  32       Easy   Leak     C   9.8  6.440523    -4.8 -30.914510\n",
       "\n",
       "[243 rows x 10 columns]"
      ]
     },
     "execution_count": 22,
     "metadata": {},
     "output_type": "execute_result"
    }
   ],
   "source": [
    "price = {\" pPr30\":30, \n",
    "    \" pPr10\":10,\n",
    "    \" pPr05\":5,\n",
    "}\n",
    "ins = {\"pIn0.5\":0.5, \n",
    "    \"pIn1\":1,\n",
    "    \"pIn3\":3,\n",
    "}\n",
    "cap = {\" pCp12\":12, \n",
    "    \" pCp20\":20,\n",
    "    \" pCp32\":32,\n",
    "}\n",
    "cl = {\" pClD\":'Difficult', \n",
    "    \" pClF\":'Fair',\n",
    "    \" pClE\":'Easy',\n",
    "}\n",
    "con = {\"pCnSl\":'Slosh', \n",
    "    \"pCnSp\":'Spill',\n",
    "    \"pCnLk\":'Leak',\n",
    "}\n",
    "br = {\" pBrC\":'C'}\n",
    "\n",
    "\n",
    "all_prod_final.iloc[:,0] = all_prod_final.iloc[:,0].replace(price)\n",
    "all_prod_final.iloc[:,1] = all_prod_final.iloc[:,1].replace(ins)\n",
    "all_prod_final.iloc[:,2] = all_prod_final.iloc[:,2].replace(cap)\n",
    "all_prod_final.iloc[:,3] = all_prod_final.iloc[:,3].replace(cl)\n",
    "all_prod_final.iloc[:,4] = all_prod_final.iloc[:,4].replace(con)\n",
    "all_prod_final.iloc[:,5] = all_prod_final.iloc[:,5].replace(br)\n",
    "\n",
    "all_prod_final['margin'] = all_prod_final['Pr'] - all_prod_final['cost']\n",
    "all_prod_final['EPP'] = all_prod_final['Share'] * all_prod_final['margin']\n",
    "all_prod_final"
   ]
  },
  {
   "cell_type": "markdown",
   "metadata": {},
   "source": [
    "***\n",
    "### Question 3:"
   ]
  },
  {
   "cell_type": "code",
   "execution_count": 23,
   "metadata": {},
   "outputs": [
    {
     "data": {
      "text/html": [
       "<div>\n",
       "<style scoped>\n",
       "    .dataframe tbody tr th:only-of-type {\n",
       "        vertical-align: middle;\n",
       "    }\n",
       "\n",
       "    .dataframe tbody tr th {\n",
       "        vertical-align: top;\n",
       "    }\n",
       "\n",
       "    .dataframe thead th {\n",
       "        text-align: right;\n",
       "    }\n",
       "</style>\n",
       "<table border=\"1\" class=\"dataframe\">\n",
       "  <thead>\n",
       "    <tr style=\"text-align: right;\">\n",
       "      <th></th>\n",
       "      <th>Pr</th>\n",
       "      <th>In</th>\n",
       "      <th>Cp</th>\n",
       "      <th>Cl</th>\n",
       "      <th>Cn</th>\n",
       "      <th>Brand</th>\n",
       "      <th>cost</th>\n",
       "      <th>Share</th>\n",
       "      <th>margin</th>\n",
       "      <th>EPP</th>\n",
       "    </tr>\n",
       "  </thead>\n",
       "  <tbody>\n",
       "    <tr>\n",
       "      <th>62</th>\n",
       "      <td>30</td>\n",
       "      <td>3.0</td>\n",
       "      <td>12</td>\n",
       "      <td>Easy</td>\n",
       "      <td>Leak</td>\n",
       "      <td>C</td>\n",
       "      <td>8.0</td>\n",
       "      <td>0.288347</td>\n",
       "      <td>22.0</td>\n",
       "      <td>6.343633</td>\n",
       "    </tr>\n",
       "  </tbody>\n",
       "</table>\n",
       "</div>"
      ],
      "text/plain": [
       "    Pr   In  Cp    Cl    Cn Brand  cost     Share  margin       EPP\n",
       "62  30  3.0  12  Easy  Leak     C   8.0  0.288347    22.0  6.343633"
      ]
     },
     "execution_count": 23,
     "metadata": {},
     "output_type": "execute_result"
    }
   ],
   "source": [
    "all_prod_final.sort_values(['EPP'], ascending=False).head(1)"
   ]
  },
  {
   "cell_type": "markdown",
   "metadata": {},
   "source": [
    "***\n",
    "### Question 4:"
   ]
  },
  {
   "cell_type": "code",
   "execution_count": 24,
   "metadata": {},
   "outputs": [
    {
     "data": {
      "text/html": [
       "<div>\n",
       "<style scoped>\n",
       "    .dataframe tbody tr th:only-of-type {\n",
       "        vertical-align: middle;\n",
       "    }\n",
       "\n",
       "    .dataframe tbody tr th {\n",
       "        vertical-align: top;\n",
       "    }\n",
       "\n",
       "    .dataframe thead th {\n",
       "        text-align: right;\n",
       "    }\n",
       "</style>\n",
       "<table border=\"1\" class=\"dataframe\">\n",
       "  <thead>\n",
       "    <tr style=\"text-align: right;\">\n",
       "      <th></th>\n",
       "      <th>Pr</th>\n",
       "      <th>In</th>\n",
       "      <th>Cp</th>\n",
       "      <th>Cl</th>\n",
       "      <th>Cn</th>\n",
       "      <th>Brand</th>\n",
       "      <th>cost</th>\n",
       "      <th>Share</th>\n",
       "      <th>margin</th>\n",
       "      <th>EPP</th>\n",
       "    </tr>\n",
       "  </thead>\n",
       "  <tbody>\n",
       "    <tr>\n",
       "      <th>233</th>\n",
       "      <td>5</td>\n",
       "      <td>3.0</td>\n",
       "      <td>20</td>\n",
       "      <td>Easy</td>\n",
       "      <td>Leak</td>\n",
       "      <td>C</td>\n",
       "      <td>9.6</td>\n",
       "      <td>6.780962</td>\n",
       "      <td>-4.6</td>\n",
       "      <td>-31.192426</td>\n",
       "    </tr>\n",
       "  </tbody>\n",
       "</table>\n",
       "</div>"
      ],
      "text/plain": [
       "     Pr   In  Cp    Cl    Cn Brand  cost     Share  margin        EPP\n",
       "233   5  3.0  20  Easy  Leak     C   9.6  6.780962    -4.6 -31.192426"
      ]
     },
     "execution_count": 24,
     "metadata": {},
     "output_type": "execute_result"
    }
   ],
   "source": [
    "# Highest Market Share\n",
    "all_prod_final.sort_values(['Share'], ascending=False).head(1)"
   ]
  },
  {
   "cell_type": "code",
   "execution_count": 25,
   "metadata": {},
   "outputs": [
    {
     "data": {
      "text/html": [
       "<div>\n",
       "<style scoped>\n",
       "    .dataframe tbody tr th:only-of-type {\n",
       "        vertical-align: middle;\n",
       "    }\n",
       "\n",
       "    .dataframe tbody tr th {\n",
       "        vertical-align: top;\n",
       "    }\n",
       "\n",
       "    .dataframe thead th {\n",
       "        text-align: right;\n",
       "    }\n",
       "</style>\n",
       "<table border=\"1\" class=\"dataframe\">\n",
       "  <thead>\n",
       "    <tr style=\"text-align: right;\">\n",
       "      <th></th>\n",
       "      <th>Pr</th>\n",
       "      <th>In</th>\n",
       "      <th>Cp</th>\n",
       "      <th>Cl</th>\n",
       "      <th>Cn</th>\n",
       "      <th>Brand</th>\n",
       "      <th>cost</th>\n",
       "      <th>Share</th>\n",
       "      <th>margin</th>\n",
       "      <th>EPP</th>\n",
       "    </tr>\n",
       "  </thead>\n",
       "  <tbody>\n",
       "    <tr>\n",
       "      <th>0</th>\n",
       "      <td>30</td>\n",
       "      <td>0.5</td>\n",
       "      <td>12</td>\n",
       "      <td>Difficult</td>\n",
       "      <td>Slosh</td>\n",
       "      <td>C</td>\n",
       "      <td>3.0</td>\n",
       "      <td>0.016842</td>\n",
       "      <td>27.0</td>\n",
       "      <td>0.454734</td>\n",
       "    </tr>\n",
       "  </tbody>\n",
       "</table>\n",
       "</div>"
      ],
      "text/plain": [
       "   Pr   In  Cp         Cl     Cn Brand  cost     Share  margin       EPP\n",
       "0  30  0.5  12  Difficult  Slosh     C   3.0  0.016842    27.0  0.454734"
      ]
     },
     "execution_count": 25,
     "metadata": {},
     "output_type": "execute_result"
    }
   ],
   "source": [
    "# Highest Margin\n",
    "all_prod_final.sort_values(['margin'], ascending=False).head(1)"
   ]
  },
  {
   "cell_type": "code",
   "execution_count": 26,
   "metadata": {},
   "outputs": [
    {
     "data": {
      "text/html": [
       "<div>\n",
       "<style scoped>\n",
       "    .dataframe tbody tr th:only-of-type {\n",
       "        vertical-align: middle;\n",
       "    }\n",
       "\n",
       "    .dataframe tbody tr th {\n",
       "        vertical-align: top;\n",
       "    }\n",
       "\n",
       "    .dataframe thead th {\n",
       "        text-align: right;\n",
       "    }\n",
       "</style>\n",
       "<table border=\"1\" class=\"dataframe\">\n",
       "  <thead>\n",
       "    <tr style=\"text-align: right;\">\n",
       "      <th></th>\n",
       "      <th>Pr</th>\n",
       "      <th>In</th>\n",
       "      <th>Cp</th>\n",
       "      <th>Cl</th>\n",
       "      <th>Cn</th>\n",
       "      <th>Brand</th>\n",
       "      <th>cost</th>\n",
       "      <th>Share</th>\n",
       "      <th>margin</th>\n",
       "      <th>EPP</th>\n",
       "    </tr>\n",
       "  </thead>\n",
       "  <tbody>\n",
       "    <tr>\n",
       "      <th>0</th>\n",
       "      <td>30</td>\n",
       "      <td>0.5</td>\n",
       "      <td>12</td>\n",
       "      <td>Difficult</td>\n",
       "      <td>Slosh</td>\n",
       "      <td>C</td>\n",
       "      <td>3.0</td>\n",
       "      <td>0.016842</td>\n",
       "      <td>27.0</td>\n",
       "      <td>0.454734</td>\n",
       "    </tr>\n",
       "    <tr>\n",
       "      <th>1</th>\n",
       "      <td>10</td>\n",
       "      <td>0.5</td>\n",
       "      <td>12</td>\n",
       "      <td>Difficult</td>\n",
       "      <td>Slosh</td>\n",
       "      <td>C</td>\n",
       "      <td>3.0</td>\n",
       "      <td>0.141426</td>\n",
       "      <td>7.0</td>\n",
       "      <td>0.989983</td>\n",
       "    </tr>\n",
       "    <tr>\n",
       "      <th>2</th>\n",
       "      <td>5</td>\n",
       "      <td>0.5</td>\n",
       "      <td>12</td>\n",
       "      <td>Difficult</td>\n",
       "      <td>Slosh</td>\n",
       "      <td>C</td>\n",
       "      <td>3.0</td>\n",
       "      <td>0.539542</td>\n",
       "      <td>2.0</td>\n",
       "      <td>1.079083</td>\n",
       "    </tr>\n",
       "  </tbody>\n",
       "</table>\n",
       "</div>"
      ],
      "text/plain": [
       "   Pr   In  Cp         Cl     Cn Brand  cost     Share  margin       EPP\n",
       "0  30  0.5  12  Difficult  Slosh     C   3.0  0.016842    27.0  0.454734\n",
       "1  10  0.5  12  Difficult  Slosh     C   3.0  0.141426     7.0  0.989983\n",
       "2   5  0.5  12  Difficult  Slosh     C   3.0  0.539542     2.0  1.079083"
      ]
     },
     "execution_count": 26,
     "metadata": {},
     "output_type": "execute_result"
    }
   ],
   "source": [
    "# Lowest Cost\n",
    "l_cost = all_prod_final['cost'].min()\n",
    "l_cost_df = all_prod_final.loc[(all_prod_final['cost'] == l_cost),:].reset_index(drop=True)\n",
    "l_cost_df"
   ]
  },
  {
   "cell_type": "code",
   "execution_count": 27,
   "metadata": {},
   "outputs": [
    {
     "data": {
      "text/html": [
       "<div>\n",
       "<style scoped>\n",
       "    .dataframe tbody tr th:only-of-type {\n",
       "        vertical-align: middle;\n",
       "    }\n",
       "\n",
       "    .dataframe tbody tr th {\n",
       "        vertical-align: top;\n",
       "    }\n",
       "\n",
       "    .dataframe thead th {\n",
       "        text-align: right;\n",
       "    }\n",
       "</style>\n",
       "<table border=\"1\" class=\"dataframe\">\n",
       "  <thead>\n",
       "    <tr style=\"text-align: right;\">\n",
       "      <th></th>\n",
       "      <th>Pr</th>\n",
       "      <th>In</th>\n",
       "      <th>Cp</th>\n",
       "      <th>Cl</th>\n",
       "      <th>Cn</th>\n",
       "      <th>Brand</th>\n",
       "      <th>cost</th>\n",
       "      <th>Share</th>\n",
       "      <th>margin</th>\n",
       "      <th>EPP</th>\n",
       "      <th>RPP</th>\n",
       "    </tr>\n",
       "  </thead>\n",
       "  <tbody>\n",
       "    <tr>\n",
       "      <th>233</th>\n",
       "      <td>5</td>\n",
       "      <td>3.0</td>\n",
       "      <td>20</td>\n",
       "      <td>Easy</td>\n",
       "      <td>Leak</td>\n",
       "      <td>C</td>\n",
       "      <td>9.6</td>\n",
       "      <td>6.780962</td>\n",
       "      <td>-4.6</td>\n",
       "      <td>-31.192426</td>\n",
       "      <td>33.904811</td>\n",
       "    </tr>\n",
       "  </tbody>\n",
       "</table>\n",
       "</div>"
      ],
      "text/plain": [
       "     Pr   In  Cp    Cl    Cn Brand  cost     Share  margin        EPP  \\\n",
       "233   5  3.0  20  Easy  Leak     C   9.6  6.780962    -4.6 -31.192426   \n",
       "\n",
       "           RPP  \n",
       "233  33.904811  "
      ]
     },
     "execution_count": 27,
     "metadata": {},
     "output_type": "execute_result"
    }
   ],
   "source": [
    "all_prod_final['RPP'] = all_prod_final['Share'] * all_prod_final['Pr']\n",
    "all_prod_final.sort_values(['RPP'], ascending=False).head(1)"
   ]
  },
  {
   "cell_type": "code",
   "execution_count": 28,
   "metadata": {},
   "outputs": [
    {
     "data": {
      "text/plain": [
       "Text(0.5, 1.0, 'EPP vs. Share')"
      ]
     },
     "execution_count": 28,
     "metadata": {},
     "output_type": "execute_result"
    },
    {
     "data": {
      "image/png": "[encoded data removed]",
      "text/plain": [
       "<Figure size 500x500 with 1 Axes>"
      ]
     },
     "metadata": {},
     "output_type": "display_data"
    }
   ],
   "source": [
    "share_epp_plot = all_prod_final[['Share', 'EPP']]\n",
    "plt.figure(figsize=(5,5))\n",
    "sns.scatterplot(x = all_prod_final['Share'],y = all_prod_final['EPP'])\n",
    "plt.title(\"EPP vs. Share\")"
   ]
  }
 ],
 "metadata": {
  "colab": {
   "provenance": []
  },
  "kernelspec": {
   "display_name": "Python 3 (ipykernel)",
   "language": "python",
   "name": "python3"
  },
  "language_info": {
   "codemirror_mode": {
    "name": "ipython",
    "version": 3
   },
   "file_extension": ".py",
   "mimetype": "text/x-python",
   "name": "python",
   "nbconvert_exporter": "python",
   "pygments_lexer": "ipython3",
   "version": "3.9.13"
  }
 },
 "nbformat": 4,
 "nbformat_minor": 4
}
