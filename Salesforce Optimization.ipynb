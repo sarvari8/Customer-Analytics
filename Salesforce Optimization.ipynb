{
 "cells": [
  {
   "cell_type": "code",
   "execution_count": 1,
   "id": "2649f299-a2a8-465c-9f23-b5ee42c72df4",
   "metadata": {},
   "outputs": [],
   "source": [
    "import pandas as pd\n",
    "import numpy as np\n",
    "from scipy.optimize import curve_fit\n",
    "import scipy.optimize as optimize\n",
    "import warnings\n",
    "warnings.filterwarnings(\"ignore\")"
   ]
  },
  {
   "cell_type": "code",
   "execution_count": 2,
   "id": "8fbdcb3a-129f-4007-84d2-3cc7c497c092",
   "metadata": {},
   "outputs": [
    {
     "data": {
      "text/plain": [
       "array(['Naprosyn', 'Nipro', 'Anaprox', 'Norinyl', 'Pironil', 'Lidex',\n",
       "       'Synalar', 'Nasalide'], dtype=object)"
      ]
     },
     "execution_count": 2,
     "metadata": {},
     "output_type": "execute_result"
    }
   ],
   "source": [
    "SF_est = pd.read_excel('delphi-consensus-outputs.xlsx')\n",
    "MR_sf = pd.read_excel('margin-revenue-salesforce.xlsx')\n",
    "drugs = np.array(SF_est.columns[1:])\n",
    "drugs"
   ]
  },
  {
   "cell_type": "code",
   "execution_count": 3,
   "id": "cc943253-d234-4745-a02d-8a6d22277499",
   "metadata": {},
   "outputs": [
    {
     "data": {
      "text/plain": [
       "array([[0.3 , 0.47, 0.15, 0.31, 0.45, 0.56, 0.59, 0.15],\n",
       "       [0.45, 0.68, 0.48, 0.63, 0.7 , 0.8 , 0.76, 0.61],\n",
       "       [1.  , 1.05, 1.04, 1.03, 1.01, 1.02, 1.02, 1.07],\n",
       "       [1.4 , 1.26, 1.2 , 1.15, 1.05, 1.11, 1.07, 1.46],\n",
       "       [1.6 , 1.52, 1.35, 1.25, 1.1 , 1.2 , 1.11, 1.76]])"
      ]
     },
     "execution_count": 3,
     "metadata": {},
     "output_type": "execute_result"
    }
   ],
   "source": [
    "SF_est = SF_est.drop(SF_est.columns[[0]], axis=1)\n",
    "delphi_data = np.array(SF_est)\n",
    "delphi_data"
   ]
  },
  {
   "cell_type": "code",
   "execution_count": 4,
   "id": "530e77b3-84eb-4a5d-839f-39207cf961c3",
   "metadata": {},
   "outputs": [
    {
     "data": {
      "text/plain": [
       "array([[  0.7 ,   0.8 ,   0.55,   0.72,   0.72,   0.62,   0.53,   0.52],\n",
       "       [214.4 , 210.1 ,  36.5 ,  21.2 ,  37.2 ,  38.  ,  14.6 ,  11.2 ],\n",
       "       [ 96.8 ,  97.2 , 142.4 ,  52.7 ,  24.1 ,  27.3 ,  29.7 ,  56.8 ]])"
      ]
     },
     "execution_count": 4,
     "metadata": {},
     "output_type": "execute_result"
    }
   ],
   "source": [
    "MR_sf = MR_sf.drop(MR_sf.columns[[0]], axis=1)\n",
    "mar_rev_sf = np.array(MR_sf)\n",
    "mar_rev_sf"
   ]
  },
  {
   "cell_type": "markdown",
   "id": "024f4243-f99d-4824-8c94-89cb5d05bed4",
   "metadata": {},
   "source": [
    "## Part (A)"
   ]
  },
  {
   "cell_type": "code",
   "execution_count": 5,
   "id": "b4a7c175-dc80-4a6e-aad1-ea25ab481e0a",
   "metadata": {},
   "outputs": [],
   "source": [
    "proxy_for_infinity = 10\n",
    "x = [0, 0.5, 1.0, 1.5, proxy_for_infinity]"
   ]
  },
  {
   "cell_type": "code",
   "execution_count": 6,
   "id": "af060f5d-e56a-4aa6-810e-cfd7bc1fc0be",
   "metadata": {},
   "outputs": [
    {
     "data": {
      "text/html": [
       "<div>\n",
       "<style scoped>\n",
       "    .dataframe tbody tr th:only-of-type {\n",
       "        vertical-align: middle;\n",
       "    }\n",
       "\n",
       "    .dataframe tbody tr th {\n",
       "        vertical-align: top;\n",
       "    }\n",
       "\n",
       "    .dataframe thead th {\n",
       "        text-align: right;\n",
       "    }\n",
       "</style>\n",
       "<table border=\"1\" class=\"dataframe\">\n",
       "  <thead>\n",
       "    <tr style=\"text-align: right;\">\n",
       "      <th></th>\n",
       "      <th>Drugs</th>\n",
       "      <th>c</th>\n",
       "      <th>d</th>\n",
       "      <th>adbudg_min</th>\n",
       "      <th>adbudg_max</th>\n",
       "    </tr>\n",
       "  </thead>\n",
       "  <tbody>\n",
       "    <tr>\n",
       "      <th>0</th>\n",
       "      <td>Naprosyn</td>\n",
       "      <td>3.463</td>\n",
       "      <td>0.842</td>\n",
       "      <td>0.309</td>\n",
       "      <td>1.607</td>\n",
       "    </tr>\n",
       "    <tr>\n",
       "      <th>1</th>\n",
       "      <td>Nipro</td>\n",
       "      <td>2.264</td>\n",
       "      <td>0.826</td>\n",
       "      <td>0.469</td>\n",
       "      <td>1.524</td>\n",
       "    </tr>\n",
       "    <tr>\n",
       "      <th>2</th>\n",
       "      <td>Anaprox</td>\n",
       "      <td>2.817</td>\n",
       "      <td>0.361</td>\n",
       "      <td>0.148</td>\n",
       "      <td>1.343</td>\n",
       "    </tr>\n",
       "    <tr>\n",
       "      <th>3</th>\n",
       "      <td>Norinyl</td>\n",
       "      <td>2.618</td>\n",
       "      <td>0.312</td>\n",
       "      <td>0.310</td>\n",
       "      <td>1.248</td>\n",
       "    </tr>\n",
       "    <tr>\n",
       "      <th>4</th>\n",
       "      <td>Pironil</td>\n",
       "      <td>3.254</td>\n",
       "      <td>0.162</td>\n",
       "      <td>0.450</td>\n",
       "      <td>1.092</td>\n",
       "    </tr>\n",
       "    <tr>\n",
       "      <th>5</th>\n",
       "      <td>Lidex</td>\n",
       "      <td>2.089</td>\n",
       "      <td>0.394</td>\n",
       "      <td>0.560</td>\n",
       "      <td>1.202</td>\n",
       "    </tr>\n",
       "    <tr>\n",
       "      <th>6</th>\n",
       "      <td>Synalar</td>\n",
       "      <td>3.246</td>\n",
       "      <td>0.212</td>\n",
       "      <td>0.590</td>\n",
       "      <td>1.106</td>\n",
       "    </tr>\n",
       "    <tr>\n",
       "      <th>7</th>\n",
       "      <td>Nasalide</td>\n",
       "      <td>2.045</td>\n",
       "      <td>0.677</td>\n",
       "      <td>0.157</td>\n",
       "      <td>1.781</td>\n",
       "    </tr>\n",
       "  </tbody>\n",
       "</table>\n",
       "</div>"
      ],
      "text/plain": [
       "      Drugs      c      d  adbudg_min  adbudg_max\n",
       "0  Naprosyn  3.463  0.842       0.309       1.607\n",
       "1     Nipro  2.264  0.826       0.469       1.524\n",
       "2   Anaprox  2.817  0.361       0.148       1.343\n",
       "3   Norinyl  2.618  0.312       0.310       1.248\n",
       "4   Pironil  3.254  0.162       0.450       1.092\n",
       "5     Lidex  2.089  0.394       0.560       1.202\n",
       "6   Synalar  3.246  0.212       0.590       1.106\n",
       "7  Nasalide  2.045  0.677       0.157       1.781"
      ]
     },
     "execution_count": 6,
     "metadata": {},
     "output_type": "execute_result"
    }
   ],
   "source": [
    "def sales_response(x, c, d, adbudg_min, adbudg_max):\n",
    "    return adbudg_min + ((adbudg_max - adbudg_min)*(x**c)/(d + x**c))\n",
    "\n",
    "params = pd.DataFrame(columns=['Drugs', 'c', 'd', 'adbudg_min', 'adbudg_max'])\n",
    "for i in range(8):\n",
    "    y = delphi_data[:,i]\n",
    "    y_lowest = y[0] \n",
    "    y_highest = y[4]\n",
    "    popt, pcov = curve_fit(sales_response, xdata = x, ydata = y, p0=[1, 1, y_lowest, y_highest])\n",
    "    res = {'Drugs': drugs[i], 'c': round(popt[0], 3), 'd': round(popt[1], 3), 'adbudg_min': round(popt[2], 3), 'adbudg_max': round(popt[3], 3)}\n",
    "    params = params.append(res, ignore_index=True)\n",
    "params"
   ]
  },
  {
   "cell_type": "markdown",
   "id": "712c98da-ef37-4907-a2b7-2c8c8a205a86",
   "metadata": {},
   "source": [
    "## Part (B)"
   ]
  },
  {
   "cell_type": "code",
   "execution_count": 7,
   "id": "99e5ff61-cbe5-48b9-abe3-93f553ace2ff",
   "metadata": {},
   "outputs": [],
   "source": [
    "prof_margin = mar_rev_sf[0,:]\n",
    "og_revenues = mar_rev_sf[1,:]\n",
    "og_salesf = mar_rev_sf[2,:]\n",
    "cost_sf = 0.057\n",
    "\n",
    "def negative_profit(sf, c, d, ad_min, ad_max, og_sf, rev, mar, cost_sf = 0.057):\n",
    "    sf_rel = sf / og_sf\n",
    "    response = ad_min + ((ad_max - ad_min)*(sf_rel**c)/(d + sf_rel**c))\n",
    "    profit = (response * rev * mar) - (sf * cost_sf)\n",
    "    return -1 * profit"
   ]
  },
  {
   "cell_type": "code",
   "execution_count": 8,
   "id": "236a6e22-a3b5-4c16-8e17-c0910decf83c",
   "metadata": {},
   "outputs": [],
   "source": [
    "params = params.drop(params.columns[[0]], axis=1)\n",
    "param = np.array(params)"
   ]
  },
  {
   "cell_type": "code",
   "execution_count": 9,
   "id": "332f4f9e-864c-454e-aa23-f51a2c0d0c91",
   "metadata": {},
   "outputs": [
    {
     "name": "stdout",
     "output_type": "stream",
     "text": [
      "`gtol` termination condition is satisfied.\n",
      "Number of iterations: 21, function evaluations: 26, CG iterations: 12, optimality: 8.00e-09, constraint violation: 0.00e+00, execution time: 0.049 s.\n",
      "`gtol` termination condition is satisfied.\n",
      "Number of iterations: 21, function evaluations: 26, CG iterations: 12, optimality: 6.55e-09, constraint violation: 0.00e+00, execution time: 0.045 s.\n",
      "`gtol` termination condition is satisfied.\n",
      "Number of iterations: 18, function evaluations: 20, CG iterations: 9, optimality: 1.98e-09, constraint violation: 0.00e+00, execution time: 0.037 s.\n",
      "`gtol` termination condition is satisfied.\n",
      "Number of iterations: 15, function evaluations: 14, CG iterations: 6, optimality: 3.10e-09, constraint violation: 0.00e+00, execution time: 0.03 s.\n",
      "`gtol` termination condition is satisfied.\n",
      "Number of iterations: 23, function evaluations: 30, CG iterations: 14, optimality: 6.94e-09, constraint violation: 0.00e+00, execution time: 0.04 s.\n",
      "`gtol` termination condition is satisfied.\n",
      "Number of iterations: 21, function evaluations: 24, CG iterations: 11, optimality: 8.51e-09, constraint violation: 0.00e+00, execution time: 0.043 s.\n",
      "`gtol` termination condition is satisfied.\n",
      "Number of iterations: 20, function evaluations: 26, CG iterations: 12, optimality: 4.81e-09, constraint violation: 0.00e+00, execution time: 0.037 s.\n",
      "`gtol` termination condition is satisfied.\n",
      "Number of iterations: 13, function evaluations: 12, CG iterations: 5, optimality: 9.61e-09, constraint violation: 0.00e+00, execution time: 0.025 s.\n"
     ]
    }
   ],
   "source": [
    "lower_bound = 0\n",
    "x0 = 80\n",
    "\n",
    "sf_profit = pd.DataFrame(columns=['Drugs', 'Salesforce Size', 'Profit'])\n",
    "for i in range(8):\n",
    "    mar = prof_margin[i]\n",
    "    og_sf = og_salesf[i]\n",
    "    rev = og_revenues[i]\n",
    "    c, d, ad_min, ad_max = param[i,:]\n",
    "    bounds_object = optimize.Bounds(lower_bound, np.inf)\n",
    "    optimizer_output = optimize.minimize(negative_profit, x0, args=(c, d, ad_min, ad_max, og_sf, rev, mar, cost_sf), method='trust-constr', bounds=bounds_object, options={'verbose': 1})\n",
    "    salesforce_size = optimizer_output['x'][0]\n",
    "    opt_profit = -1 * optimizer_output['fun']\n",
    "    res = {'Drugs': drugs[i],'Salesforce Size': round(salesforce_size, 2), 'Profit': round(opt_profit, 3)}\n",
    "    sf_profit = sf_profit.append(res, ignore_index=True)\n",
    "    # print(optimizer_output)"
   ]
  },
  {
   "cell_type": "code",
   "execution_count": 10,
   "id": "7669373c-ed36-42ff-972e-4d5e7e4ba781",
   "metadata": {},
   "outputs": [
    {
     "data": {
      "text/html": [
       "<div>\n",
       "<style scoped>\n",
       "    .dataframe tbody tr th:only-of-type {\n",
       "        vertical-align: middle;\n",
       "    }\n",
       "\n",
       "    .dataframe tbody tr th {\n",
       "        vertical-align: top;\n",
       "    }\n",
       "\n",
       "    .dataframe thead th {\n",
       "        text-align: right;\n",
       "    }\n",
       "</style>\n",
       "<table border=\"1\" class=\"dataframe\">\n",
       "  <thead>\n",
       "    <tr style=\"text-align: right;\">\n",
       "      <th></th>\n",
       "      <th>Drugs</th>\n",
       "      <th>Salesforce Size</th>\n",
       "      <th>Profit</th>\n",
       "    </tr>\n",
       "  </thead>\n",
       "  <tbody>\n",
       "    <tr>\n",
       "      <th>0</th>\n",
       "      <td>Naprosyn</td>\n",
       "      <td>270.53</td>\n",
       "      <td>221.199</td>\n",
       "    </tr>\n",
       "    <tr>\n",
       "      <th>1</th>\n",
       "      <td>Nipro</td>\n",
       "      <td>330.11</td>\n",
       "      <td>228.595</td>\n",
       "    </tr>\n",
       "    <tr>\n",
       "      <th>2</th>\n",
       "      <td>Anaprox</td>\n",
       "      <td>171.69</td>\n",
       "      <td>12.960</td>\n",
       "    </tr>\n",
       "    <tr>\n",
       "      <th>3</th>\n",
       "      <td>Norinyl</td>\n",
       "      <td>71.33</td>\n",
       "      <td>13.212</td>\n",
       "    </tr>\n",
       "    <tr>\n",
       "      <th>4</th>\n",
       "      <td>Pironil</td>\n",
       "      <td>36.86</td>\n",
       "      <td>26.475</td>\n",
       "    </tr>\n",
       "    <tr>\n",
       "      <th>5</th>\n",
       "      <td>Lidex</td>\n",
       "      <td>49.98</td>\n",
       "      <td>23.954</td>\n",
       "    </tr>\n",
       "    <tr>\n",
       "      <th>6</th>\n",
       "      <td>Synalar</td>\n",
       "      <td>30.65</td>\n",
       "      <td>6.170</td>\n",
       "    </tr>\n",
       "    <tr>\n",
       "      <th>7</th>\n",
       "      <td>Nasalide</td>\n",
       "      <td>71.16</td>\n",
       "      <td>3.486</td>\n",
       "    </tr>\n",
       "  </tbody>\n",
       "</table>\n",
       "</div>"
      ],
      "text/plain": [
       "      Drugs  Salesforce Size   Profit\n",
       "0  Naprosyn           270.53  221.199\n",
       "1     Nipro           330.11  228.595\n",
       "2   Anaprox           171.69   12.960\n",
       "3   Norinyl            71.33   13.212\n",
       "4   Pironil            36.86   26.475\n",
       "5     Lidex            49.98   23.954\n",
       "6   Synalar            30.65    6.170\n",
       "7  Nasalide            71.16    3.486"
      ]
     },
     "execution_count": 10,
     "metadata": {},
     "output_type": "execute_result"
    }
   ],
   "source": [
    "sf_profit"
   ]
  },
  {
   "cell_type": "code",
   "execution_count": 11,
   "id": "11ebd7dd-57d4-41f5-8a78-1dd7ca5c9f39",
   "metadata": {},
   "outputs": [],
   "source": [
    "sf_profit = sf_profit.drop(sf_profit.columns[[0]], axis=1)\n",
    "sf_profit_b = np.array(sf_profit)"
   ]
  },
  {
   "cell_type": "markdown",
   "id": "65682c87-16af-4038-90ee-0a3e6b8f1141",
   "metadata": {},
   "source": [
    "## Part (C)"
   ]
  },
  {
   "cell_type": "code",
   "execution_count": 12,
   "id": "a4533d75-9269-40f6-95c8-9fbdb492cc43",
   "metadata": {},
   "outputs": [],
   "source": [
    "def negative_profit_c(sf, c, d, ad_min, ad_max, og_sf, rev, mar, cost_sf = 0.057):\n",
    "    sf_rel = sf / og_sf\n",
    "    response = ad_min + ((ad_max - ad_min)*(sf_rel**c)/(d + sf_rel**c))\n",
    "    profit = (response * rev * mar) - (sf * cost_sf)\n",
    "    sumprofit = np.sum(profit)\n",
    "    return -1 * sumprofit"
   ]
  },
  {
   "cell_type": "code",
   "execution_count": 13,
   "id": "efdc7247-274b-44e1-9487-96d993ddb126",
   "metadata": {},
   "outputs": [],
   "source": [
    "n_drugs = 8\n",
    "total_salesforce_size = 700\n",
    "lower_bound = 0\n",
    "\n",
    "c = param[:,0]\n",
    "d = param[:,1]\n",
    "ad_min = param[:,2]\n",
    "ad_max = param[:,3]\n",
    "\n",
    "mar = mar_rev_sf[0,:]\n",
    "rev = mar_rev_sf[1,:]\n",
    "og_sf = mar_rev_sf[2,:]\n",
    "\n",
    "x0c = np.ones(n_drugs)*total_salesforce_size/n_drugs\n",
    "sum_constraint_object = optimize.LinearConstraint(np.ones((1, n_drugs)), lower_bound, total_salesforce_size)\n",
    "bounds_object_c = optimize.Bounds(lower_bound, np.inf)\n",
    "\n",
    "optimizer_output_c = optimize.minimize(negative_profit_c, x0c, args=(c, d, ad_min, ad_max, og_sf, rev, mar, cost_sf), method='SLSQP', bounds=bounds_object_c, constraints=sum_constraint_object)\n",
    "salesforce_size = optimizer_output_c['x']\n",
    "opt_profit = -1 * optimizer_output_c['fun']\n",
    "sf_rel = salesforce_size / og_sf\n",
    "response = ad_min + ((ad_max - ad_min)*(sf_rel**c)/(d + sf_rel**c))\n",
    "profit = ((response * rev * mar) - (salesforce_size * cost_sf))\n",
    "profit_reduction = (profit - sf_profit_b[:,1])/sf_profit_b[:,1]\n",
    "sf_reduction = (salesforce_size - sf_profit_b[:,0])/sf_profit_b[:,0]"
   ]
  },
  {
   "cell_type": "code",
   "execution_count": 14,
   "id": "ceb2d947-85de-49ae-82ea-6a87fc230515",
   "metadata": {},
   "outputs": [
    {
     "data": {
      "text/html": [
       "<div>\n",
       "<style scoped>\n",
       "    .dataframe tbody tr th:only-of-type {\n",
       "        vertical-align: middle;\n",
       "    }\n",
       "\n",
       "    .dataframe tbody tr th {\n",
       "        vertical-align: top;\n",
       "    }\n",
       "\n",
       "    .dataframe thead th {\n",
       "        text-align: right;\n",
       "    }\n",
       "</style>\n",
       "<table border=\"1\" class=\"dataframe\">\n",
       "  <thead>\n",
       "    <tr style=\"text-align: right;\">\n",
       "      <th></th>\n",
       "      <th>Drugs</th>\n",
       "      <th>Salesforce</th>\n",
       "      <th>Profit</th>\n",
       "      <th>Profit Reduction</th>\n",
       "      <th>Salesforce Reduction</th>\n",
       "    </tr>\n",
       "  </thead>\n",
       "  <tbody>\n",
       "    <tr>\n",
       "      <th>0</th>\n",
       "      <td>Naprosyn</td>\n",
       "      <td>220.27</td>\n",
       "      <td>219.553</td>\n",
       "      <td>-0.007</td>\n",
       "      <td>-0.186</td>\n",
       "    </tr>\n",
       "    <tr>\n",
       "      <th>1</th>\n",
       "      <td>Nipro</td>\n",
       "      <td>245.95</td>\n",
       "      <td>225.873</td>\n",
       "      <td>-0.012</td>\n",
       "      <td>-0.255</td>\n",
       "    </tr>\n",
       "    <tr>\n",
       "      <th>2</th>\n",
       "      <td>Anaprox</td>\n",
       "      <td>117.47</td>\n",
       "      <td>11.076</td>\n",
       "      <td>-0.145</td>\n",
       "      <td>-0.316</td>\n",
       "    </tr>\n",
       "    <tr>\n",
       "      <th>3</th>\n",
       "      <td>Norinyl</td>\n",
       "      <td>51.52</td>\n",
       "      <td>12.552</td>\n",
       "      <td>-0.050</td>\n",
       "      <td>-0.278</td>\n",
       "    </tr>\n",
       "    <tr>\n",
       "      <th>4</th>\n",
       "      <td>Pironil</td>\n",
       "      <td>29.47</td>\n",
       "      <td>26.233</td>\n",
       "      <td>-0.009</td>\n",
       "      <td>-0.200</td>\n",
       "    </tr>\n",
       "    <tr>\n",
       "      <th>5</th>\n",
       "      <td>Lidex</td>\n",
       "      <td>35.33</td>\n",
       "      <td>23.478</td>\n",
       "      <td>-0.020</td>\n",
       "      <td>-0.293</td>\n",
       "    </tr>\n",
       "    <tr>\n",
       "      <th>6</th>\n",
       "      <td>Synalar</td>\n",
       "      <td>0.00</td>\n",
       "      <td>4.565</td>\n",
       "      <td>-0.260</td>\n",
       "      <td>-1.000</td>\n",
       "    </tr>\n",
       "    <tr>\n",
       "      <th>7</th>\n",
       "      <td>Nasalide</td>\n",
       "      <td>0.00</td>\n",
       "      <td>0.914</td>\n",
       "      <td>-0.738</td>\n",
       "      <td>-1.000</td>\n",
       "    </tr>\n",
       "  </tbody>\n",
       "</table>\n",
       "</div>"
      ],
      "text/plain": [
       "      Drugs  Salesforce   Profit  Profit Reduction  Salesforce Reduction\n",
       "0  Naprosyn      220.27  219.553            -0.007                -0.186\n",
       "1     Nipro      245.95  225.873            -0.012                -0.255\n",
       "2   Anaprox      117.47   11.076            -0.145                -0.316\n",
       "3   Norinyl       51.52   12.552            -0.050                -0.278\n",
       "4   Pironil       29.47   26.233            -0.009                -0.200\n",
       "5     Lidex       35.33   23.478            -0.020                -0.293\n",
       "6   Synalar        0.00    4.565            -0.260                -1.000\n",
       "7  Nasalide        0.00    0.914            -0.738                -1.000"
      ]
     },
     "execution_count": 14,
     "metadata": {},
     "output_type": "execute_result"
    }
   ],
   "source": [
    "opt_prof = pd.DataFrame(columns=['Drugs', 'Salesforce', 'Profit', 'Profit Reduction', 'Salesforce Reduction'])\n",
    "for i in range(8):\n",
    "    rows = {'Drugs': drugs[i], 'Salesforce': round(salesforce_size[i], 2), 'Profit': round(profit[i], 3), 'Profit Reduction': round(profit_reduction[i], 3), 'Salesforce Reduction': round(sf_reduction[i],3)}\n",
    "    opt_prof = opt_prof.append(rows, ignore_index=True)\n",
    "opt_prof"
   ]
  }
 ],
 "metadata": {
  "kernelspec": {
   "display_name": "Python 3 (ipykernel)",
   "language": "python",
   "name": "python3"
  },
  "language_info": {
   "codemirror_mode": {
    "name": "ipython",
    "version": 3
   },
   "file_extension": ".py",
   "mimetype": "text/x-python",
   "name": "python",
   "nbconvert_exporter": "python",
   "pygments_lexer": "ipython3",
   "version": "3.9.13"
  }
 },
 "nbformat": 4,
 "nbformat_minor": 5
}
