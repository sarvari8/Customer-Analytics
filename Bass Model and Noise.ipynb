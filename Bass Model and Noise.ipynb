{
 "cells": [
  {
   "cell_type": "code",
   "execution_count": 1,
   "id": "2f34ac37-55ea-4d1e-a88d-2272af5528e8",
   "metadata": {},
   "outputs": [],
   "source": [
    "import pandas as pd\n",
    "import matplotlib.pyplot as plt\n",
    "import numpy as np\n",
    "import statsmodels.api as sm\n",
    "import statsmodels.formula.api as smf\n",
    "from scipy.optimize import curve_fit"
   ]
  },
  {
   "cell_type": "markdown",
   "id": "f784a4cf-ec31-4d3c-a112-46f3be311fe0",
   "metadata": {},
   "source": [
    "## Q1 Part 1:"
   ]
  },
  {
   "cell_type": "code",
   "execution_count": 2,
   "id": "8355d39c-6334-4a19-848f-b2f78d8ffb8b",
   "metadata": {},
   "outputs": [],
   "source": [
    "df = pd.read_csv('adoptionseries2_with_noise.csv')\n",
    "df.rename(columns = {'N(t)':'N'}, inplace = True)"
   ]
  },
  {
   "cell_type": "code",
   "execution_count": 3,
   "id": "11b89dbf-58df-4530-b978-36e6c4d0ba52",
   "metadata": {},
   "outputs": [
    {
     "data": {
      "text/html": [
       "<div>\n",
       "<style scoped>\n",
       "    .dataframe tbody tr th:only-of-type {\n",
       "        vertical-align: middle;\n",
       "    }\n",
       "\n",
       "    .dataframe tbody tr th {\n",
       "        vertical-align: top;\n",
       "    }\n",
       "\n",
       "    .dataframe thead th {\n",
       "        text-align: right;\n",
       "    }\n",
       "</style>\n",
       "<table border=\"1\" class=\"dataframe\">\n",
       "  <thead>\n",
       "    <tr style=\"text-align: right;\">\n",
       "      <th></th>\n",
       "      <th>t</th>\n",
       "      <th>N</th>\n",
       "      <th>A</th>\n",
       "      <th>A_sq</th>\n",
       "    </tr>\n",
       "  </thead>\n",
       "  <tbody>\n",
       "    <tr>\n",
       "      <th>0</th>\n",
       "      <td>1</td>\n",
       "      <td>0.123</td>\n",
       "      <td>0.000</td>\n",
       "      <td>0.000000</td>\n",
       "    </tr>\n",
       "    <tr>\n",
       "      <th>1</th>\n",
       "      <td>2</td>\n",
       "      <td>0.097</td>\n",
       "      <td>0.123</td>\n",
       "      <td>0.015129</td>\n",
       "    </tr>\n",
       "    <tr>\n",
       "      <th>2</th>\n",
       "      <td>3</td>\n",
       "      <td>0.171</td>\n",
       "      <td>0.220</td>\n",
       "      <td>0.048400</td>\n",
       "    </tr>\n",
       "    <tr>\n",
       "      <th>3</th>\n",
       "      <td>4</td>\n",
       "      <td>0.145</td>\n",
       "      <td>0.391</td>\n",
       "      <td>0.152881</td>\n",
       "    </tr>\n",
       "    <tr>\n",
       "      <th>4</th>\n",
       "      <td>5</td>\n",
       "      <td>0.238</td>\n",
       "      <td>0.536</td>\n",
       "      <td>0.287296</td>\n",
       "    </tr>\n",
       "    <tr>\n",
       "      <th>5</th>\n",
       "      <td>6</td>\n",
       "      <td>0.214</td>\n",
       "      <td>0.774</td>\n",
       "      <td>0.599076</td>\n",
       "    </tr>\n",
       "    <tr>\n",
       "      <th>6</th>\n",
       "      <td>7</td>\n",
       "      <td>0.333</td>\n",
       "      <td>0.988</td>\n",
       "      <td>0.976144</td>\n",
       "    </tr>\n",
       "    <tr>\n",
       "      <th>7</th>\n",
       "      <td>8</td>\n",
       "      <td>0.314</td>\n",
       "      <td>1.321</td>\n",
       "      <td>1.745041</td>\n",
       "    </tr>\n",
       "    <tr>\n",
       "      <th>8</th>\n",
       "      <td>9</td>\n",
       "      <td>0.466</td>\n",
       "      <td>1.635</td>\n",
       "      <td>2.673225</td>\n",
       "    </tr>\n",
       "    <tr>\n",
       "      <th>9</th>\n",
       "      <td>10</td>\n",
       "      <td>0.455</td>\n",
       "      <td>2.101</td>\n",
       "      <td>4.414201</td>\n",
       "    </tr>\n",
       "    <tr>\n",
       "      <th>10</th>\n",
       "      <td>11</td>\n",
       "      <td>0.650</td>\n",
       "      <td>2.556</td>\n",
       "      <td>6.533136</td>\n",
       "    </tr>\n",
       "    <tr>\n",
       "      <th>11</th>\n",
       "      <td>12</td>\n",
       "      <td>0.653</td>\n",
       "      <td>3.206</td>\n",
       "      <td>10.278436</td>\n",
       "    </tr>\n",
       "    <tr>\n",
       "      <th>12</th>\n",
       "      <td>13</td>\n",
       "      <td>0.902</td>\n",
       "      <td>3.859</td>\n",
       "      <td>14.891881</td>\n",
       "    </tr>\n",
       "    <tr>\n",
       "      <th>13</th>\n",
       "      <td>14</td>\n",
       "      <td>0.926</td>\n",
       "      <td>4.761</td>\n",
       "      <td>22.667121</td>\n",
       "    </tr>\n",
       "  </tbody>\n",
       "</table>\n",
       "</div>"
      ],
      "text/plain": [
       "     t      N      A       A_sq\n",
       "0    1  0.123  0.000   0.000000\n",
       "1    2  0.097  0.123   0.015129\n",
       "2    3  0.171  0.220   0.048400\n",
       "3    4  0.145  0.391   0.152881\n",
       "4    5  0.238  0.536   0.287296\n",
       "5    6  0.214  0.774   0.599076\n",
       "6    7  0.333  0.988   0.976144\n",
       "7    8  0.314  1.321   1.745041\n",
       "8    9  0.466  1.635   2.673225\n",
       "9   10  0.455  2.101   4.414201\n",
       "10  11  0.650  2.556   6.533136\n",
       "11  12  0.653  3.206  10.278436\n",
       "12  13  0.902  3.859  14.891881\n",
       "13  14  0.926  4.761  22.667121"
      ]
     },
     "execution_count": 3,
     "metadata": {},
     "output_type": "execute_result"
    }
   ],
   "source": [
    "df['A'] = df['N'].cumsum() - df['N']\n",
    "df['A_sq'] = np.square(df['A'])\n",
    "df"
   ]
  },
  {
   "cell_type": "code",
   "execution_count": 4,
   "id": "040bdfc8-e132-41fa-bb8a-32964ea25c6f",
   "metadata": {},
   "outputs": [
    {
     "name": "stdout",
     "output_type": "stream",
     "text": [
      "                            OLS Regression Results                            \n",
      "==============================================================================\n",
      "Dep. Variable:                      N   R-squared:                       0.972\n",
      "Model:                            OLS   Adj. R-squared:                  0.966\n",
      "Method:                 Least Squares   F-statistic:                     188.4\n",
      "Date:                Mon, 10 Apr 2023   Prob (F-statistic):           3.09e-09\n",
      "Time:                        13:53:40   Log-Likelihood:                 23.404\n",
      "No. Observations:                  14   AIC:                            -40.81\n",
      "Df Residuals:                      11   BIC:                            -38.89\n",
      "Df Model:                           2                                         \n",
      "Covariance Type:            nonrobust                                         \n",
      "==============================================================================\n",
      "                 coef    std err          t      P>|t|      [0.025      0.975]\n",
      "------------------------------------------------------------------------------\n",
      "Intercept      0.0961      0.027      3.611      0.004       0.038       0.155\n",
      "A              0.2113      0.033      6.434      0.000       0.139       0.284\n",
      "A_sq          -0.0062      0.007     -0.866      0.405      -0.022       0.010\n",
      "==============================================================================\n",
      "Omnibus:                        3.290   Durbin-Watson:                   3.731\n",
      "Prob(Omnibus):                  0.193   Jarque-Bera (JB):                1.203\n",
      "Skew:                           0.191   Prob(JB):                        0.548\n",
      "Kurtosis:                       1.616   Cond. No.                         24.7\n",
      "==============================================================================\n",
      "\n",
      "Notes:\n",
      "[1] Standard Errors assume that the covariance matrix of the errors is correctly specified.\n"
     ]
    },
    {
     "name": "stderr",
     "output_type": "stream",
     "text": [
      "/Users/sarvaripidaparty/opt/anaconda3/lib/python3.9/site-packages/scipy/stats/stats.py:1541: UserWarning: kurtosistest only valid for n>=20 ... continuing anyway, n=14\n",
      "  warnings.warn(\"kurtosistest only valid for n>=20 ... continuing \"\n"
     ]
    }
   ],
   "source": [
    "model1 = smf.ols(formula = 'N ~ A + A_sq', data = df).fit()\n",
    "print(model1.summary())"
   ]
  },
  {
   "cell_type": "code",
   "execution_count": 5,
   "id": "0299ac64-e775-43cb-8dc7-4a45a246c337",
   "metadata": {},
   "outputs": [],
   "source": [
    "a = model1.params[0]\n",
    "b = model1.params[1]\n",
    "c = model1.params[2]\n",
    "d = np.sqrt(np.square(b) - 4*a*c)"
   ]
  },
  {
   "cell_type": "code",
   "execution_count": 6,
   "id": "afb87fe9-3567-490b-9bef-e739151b1135",
   "metadata": {},
   "outputs": [],
   "source": [
    "p = (d - b)/2\n",
    "q = (d + b)/2\n",
    "M = -q/c"
   ]
  },
  {
   "cell_type": "code",
   "execution_count": 7,
   "id": "b34bff43-3aed-47ae-8346-672f05b6e203",
   "metadata": {},
   "outputs": [
    {
     "name": "stdout",
     "output_type": "stream",
     "text": [
      "0.003 0.214 34.405\n"
     ]
    }
   ],
   "source": [
    "print(round(p,3), round(q,3), round(M,3))"
   ]
  },
  {
   "cell_type": "code",
   "execution_count": 8,
   "id": "58868846-8d18-4b01-8e8a-b0d38c70a27a",
   "metadata": {},
   "outputs": [
    {
     "name": "stdout",
     "output_type": "stream",
     "text": [
      "973841.4756158367\n"
     ]
    }
   ],
   "source": [
    "#extrapolating the data for t=15 to t=30, taking t=14 data as initial data\n",
    "t = 1\n",
    "\n",
    "T = 17\n",
    "\n",
    "A = np.zeros(T)\n",
    "N = np.zeros(T)\n",
    "R = np.zeros(T)\n",
    "F = np.zeros(T)\n",
    "\n",
    "def bass_func(t, p, q, T):\n",
    "    for i in range(t, T):\n",
    "        A[i] = N[i-1] + A[i-1]\n",
    "        R[i] = M - A[i]\n",
    "        F[i] = p + q * A[i]/M\n",
    "        N[i] = F[i] * R[i]\n",
    "    return A, N\n",
    "\n",
    "A[0] = 4.761\n",
    "R[0] = M - A[0]\n",
    "F[0] = p + q*A[0]/M\n",
    "N[0] = 0.926\n",
    "\n",
    "A, N = bass_func(t, p, q, T)\n",
    "print(N[16]*1000000)"
   ]
  },
  {
   "cell_type": "markdown",
   "id": "407a1ab8-0e26-4274-acbe-61a386b06fff",
   "metadata": {
    "tags": []
   },
   "source": [
    "## Q1 Part 2:"
   ]
  },
  {
   "cell_type": "code",
   "execution_count": 9,
   "id": "e664fe5a-1860-402b-a012-6da1dadcb5fd",
   "metadata": {},
   "outputs": [],
   "source": [
    "M = 100\n",
    "\n",
    "def N0(df, p, q):\n",
    "    return ((M*p) + ((q - p)*df['A']) - ((q/M)*df['A_sq']))\n",
    "\n",
    "x_var = df[['A','A_sq']] #create a subset of the dataframe to get the independent variables\n",
    "y_var = df['N']\n",
    "popt, pcov = curve_fit(N0, xdata = x_var, ydata = y_var, p0=[0.02, 0.5])"
   ]
  },
  {
   "cell_type": "code",
   "execution_count": 10,
   "id": "299849ab-5793-434c-af70-6838c9679278",
   "metadata": {},
   "outputs": [
    {
     "data": {
      "text/plain": [
       "0.001"
      ]
     },
     "execution_count": 10,
     "metadata": {},
     "output_type": "execute_result"
    }
   ],
   "source": [
    "#p\n",
    "p = popt[0]\n",
    "round(p,3)"
   ]
  },
  {
   "cell_type": "code",
   "execution_count": 11,
   "id": "9a51d546-0036-4cb7-a1fe-0c93f33e724d",
   "metadata": {},
   "outputs": [
    {
     "data": {
      "text/plain": [
       "0.194"
      ]
     },
     "execution_count": 11,
     "metadata": {},
     "output_type": "execute_result"
    }
   ],
   "source": [
    "#q\n",
    "q = popt[1]\n",
    "round(q,3)"
   ]
  },
  {
   "cell_type": "markdown",
   "id": "a8d90d21-c8f0-4b97-9274-d36acc0511d0",
   "metadata": {},
   "source": [
    "## Q1 Part 3:"
   ]
  },
  {
   "cell_type": "code",
   "execution_count": 12,
   "id": "4e749b8d-260f-4176-a3ae-66418b882100",
   "metadata": {},
   "outputs": [
    {
     "name": "stdout",
     "output_type": "stream",
     "text": [
      "4890439.591951741\n"
     ]
    }
   ],
   "source": [
    "A1, N1 = bass_func(t, p, q, T)\n",
    "print(N1[16]*1000000)"
   ]
  },
  {
   "cell_type": "markdown",
   "id": "55cecf84-c160-4a78-8205-e9589eb3d123",
   "metadata": {},
   "source": [
    "## Q1 Part 4:"
   ]
  },
  {
   "cell_type": "code",
   "execution_count": 13,
   "id": "306a3c9e-02b2-47b0-88c2-3a010baf0b9d",
   "metadata": {},
   "outputs": [],
   "source": [
    "def N0_cont(t, p, q):\n",
    "    E = np.exp(-1*(p + q)*t)\n",
    "    Et = np.exp(-1*(p + q)*(t-1))\n",
    "    Ac = M * ((1 - E) / (1 + ((q/p)*E)))\n",
    "    Act = M * ((1 - Et) / (1 + ((q/p)*Et)))\n",
    "    return Ac - Act\n",
    "\n",
    "x_var1 = df['t']\n",
    "y_var1 = df['N']\n",
    "popt4, pcov4 = curve_fit(N0_cont, xdata = x_var1, ydata = y_var1, p0=[0.02, 0.5])"
   ]
  },
  {
   "cell_type": "code",
   "execution_count": 14,
   "id": "e2d03cb7-5dc7-42a4-866c-b0f7c4ba1aeb",
   "metadata": {},
   "outputs": [
    {
     "data": {
      "text/plain": [
       "0.001"
      ]
     },
     "execution_count": 14,
     "metadata": {},
     "output_type": "execute_result"
    }
   ],
   "source": [
    "#p\n",
    "p = popt4[0]\n",
    "round(p,3)"
   ]
  },
  {
   "cell_type": "code",
   "execution_count": 15,
   "id": "38fe88ab-d730-4d01-9e2a-89d038566010",
   "metadata": {},
   "outputs": [
    {
     "data": {
      "text/plain": [
       "0.179"
      ]
     },
     "execution_count": 15,
     "metadata": {},
     "output_type": "execute_result"
    }
   ],
   "source": [
    "#q\n",
    "q = popt4[1]\n",
    "round(q,3)"
   ]
  },
  {
   "cell_type": "code",
   "execution_count": 16,
   "id": "e526cd8c-82d6-4dc8-b0ab-2bbffcb62be0",
   "metadata": {},
   "outputs": [
    {
     "name": "stdout",
     "output_type": "stream",
     "text": [
      "4494517.937185485\n"
     ]
    }
   ],
   "source": [
    "N2 = N0_cont(29, p, q)\n",
    "print(N2*1000000)"
   ]
  },
  {
   "cell_type": "markdown",
   "id": "f35f7972-0e80-402b-9b0e-a7ec18b68877",
   "metadata": {},
   "source": [
    "***"
   ]
  },
  {
   "cell_type": "markdown",
   "id": "34033ba8-ca14-4534-a2dc-4778d2d4b345",
   "metadata": {},
   "source": [
    "## Q4"
   ]
  },
  {
   "cell_type": "code",
   "execution_count": 17,
   "id": "cb6a22fa-5dc4-4800-9ba9-23a8597ad6f2",
   "metadata": {},
   "outputs": [],
   "source": [
    "#concatenating the original data with extrapolated data (discrete case)\n",
    "p, q = 0.01, 0.1\n",
    "NA = np.stack((N1, A1), axis=1)\n",
    "df1 = pd.DataFrame(NA, columns =['N', 'A'])\n",
    "df1 = df1.drop(labels=0, axis=0)\n",
    "df1['t'] = range(15,31)\n",
    "df1['A_sq'] = np.square(df1['A'])\n",
    "\n",
    "df2 = pd.concat([df, df1], ignore_index=True, sort=False)"
   ]
  },
  {
   "cell_type": "code",
   "execution_count": 18,
   "id": "cec8597a-180a-40c6-a565-53add5a3c599",
   "metadata": {},
   "outputs": [],
   "source": [
    "def cont_N(t, p, q): #function to generate continuous bass values\n",
    "    N = np.zeros(30)\n",
    "    A = np.zeros(30)\n",
    "    for t in range(0,30):\n",
    "        E = np.exp(-1*(p + q)*t)\n",
    "        Et = np.exp(-1*(p + q)*(t-1))\n",
    "        Ac = M * ((1 - E) / (1 + ((q/p)*E)))\n",
    "        Act = M * ((1 - Et) / (1 + ((q/p)*Et)))\n",
    "        A[t] = Ac\n",
    "        N[t] = Ac - Act\n",
    "    return A, N\n",
    "\n",
    "A3, N3 = cont_N(30, p, q)"
   ]
  },
  {
   "cell_type": "code",
   "execution_count": 19,
   "id": "33b44680-4e82-4ad9-a93d-b88fe2784ad5",
   "metadata": {},
   "outputs": [
    {
     "data": {
      "text/plain": [
       "<matplotlib.legend.Legend at 0x7fe7609320a0>"
      ]
     },
     "execution_count": 19,
     "metadata": {},
     "output_type": "execute_result"
    },
    {
     "data": {
      "image/png": "[encoded data removed]",
      "text/plain": [
       "<Figure size 640x480 with 1 Axes>"
      ]
     },
     "metadata": {},
     "output_type": "display_data"
    }
   ],
   "source": [
    "plt.figure()\n",
    "plt.plot(df2['t'], df2['N'], label = \"Discrete\")\n",
    "plt.plot(df2['t'], N3, label = \"Continuous\")\n",
    "plt.title(label = (p, q))\n",
    "plt.legend()"
   ]
  },
  {
   "cell_type": "code",
   "execution_count": 20,
   "id": "d0dda18c-71c4-4ac4-8aa6-b4d4ab9590b2",
   "metadata": {},
   "outputs": [],
   "source": [
    "p1, q1 = 0.01, 0.5\n",
    "A4, N4 = bass_func(t, p1, q1, T)\n",
    "NA1 = np.stack((N4, A4), axis=1)\n",
    "df3 = pd.DataFrame(NA1, columns =['N', 'A'])\n",
    "df3 = df3.drop(labels=0, axis=0)\n",
    "df3['t'] = range(15,31)\n",
    "df3['A_sq'] = np.square(df3['A'])\n",
    "df4 = pd.concat([df, df3], ignore_index=True, sort=False)\n",
    "\n",
    "A5, N5 = cont_N(30, p1, q1)"
   ]
  },
  {
   "cell_type": "code",
   "execution_count": 21,
   "id": "d2805ab1-d474-41c7-9f33-7944dcff61be",
   "metadata": {},
   "outputs": [
    {
     "data": {
      "text/plain": [
       "<matplotlib.legend.Legend at 0x7fe753ae1d00>"
      ]
     },
     "execution_count": 21,
     "metadata": {},
     "output_type": "execute_result"
    },
    {
     "data": {
      "image/png": "[encoded data removed]",
      "text/plain": [
       "<Figure size 640x480 with 1 Axes>"
      ]
     },
     "metadata": {},
     "output_type": "display_data"
    }
   ],
   "source": [
    "plt.figure()\n",
    "plt.plot(df4['t'], df4['N'], label = \"Discrete\")\n",
    "plt.plot(df4['t'], N5, label = \"Continuous\")\n",
    "plt.title(label = (p1, q1))\n",
    "plt.legend()"
   ]
  },
  {
   "cell_type": "code",
   "execution_count": 22,
   "id": "bb578889-ad01-4d1a-bdae-c5004fb96558",
   "metadata": {},
   "outputs": [
    {
     "data": {
      "text/plain": [
       "<matplotlib.legend.Legend at 0x7fe753ae1d30>"
      ]
     },
     "execution_count": 22,
     "metadata": {},
     "output_type": "execute_result"
    },
    {
     "data": {
      "image/png": "[encoded data removed]",
      "text/plain": [
       "<Figure size 640x480 with 1 Axes>"
      ]
     },
     "metadata": {},
     "output_type": "display_data"
    }
   ],
   "source": [
    "p2, q2 = 0.08, 0.1\n",
    "A6, N6 = bass_func(t, p2, q2, T)\n",
    "NA2 = np.stack((N6, A6), axis=1)\n",
    "df5 = pd.DataFrame(NA2, columns =['N', 'A'])\n",
    "df5 = df5.drop(labels=0, axis=0)\n",
    "df5['t'] = range(15,31)\n",
    "df5['A_sq'] = np.square(df5['A'])\n",
    "df6 = pd.concat([df, df5], ignore_index=True, sort=False)\n",
    "\n",
    "A7, N7 = cont_N(30, p2, q2)\n",
    "\n",
    "plt.figure()\n",
    "plt.plot(df6['t'], df6['N'], label = \"Discrete\")\n",
    "plt.plot(df6['t'], N7, label = \"Continuous\")\n",
    "plt.title(label = (p2, q2))\n",
    "plt.legend()"
   ]
  },
  {
   "cell_type": "code",
   "execution_count": 23,
   "id": "87141c8a-2253-4b25-b385-51760fde73cd",
   "metadata": {},
   "outputs": [
    {
     "data": {
      "text/plain": [
       "<matplotlib.legend.Legend at 0x7fe740488490>"
      ]
     },
     "execution_count": 23,
     "metadata": {},
     "output_type": "execute_result"
    },
    {
     "data": {
      "image/png": "[encoded data removed]",
      "text/plain": [
       "<Figure size 640x480 with 1 Axes>"
      ]
     },
     "metadata": {},
     "output_type": "display_data"
    }
   ],
   "source": [
    "p3, q3 = 0.08, 0.5\n",
    "A8, N8 = bass_func(t, p3, q3, T)\n",
    "NA3 = np.stack((N8, A8), axis=1)\n",
    "df7 = pd.DataFrame(NA3, columns =['N', 'A'])\n",
    "df7 = df7.drop(labels=0, axis=0)\n",
    "df7['t'] = range(15,31)\n",
    "df7['A_sq'] = np.square(df7['A'])\n",
    "df8 = pd.concat([df, df7], ignore_index=True, sort=False)\n",
    "\n",
    "A9, N9 = cont_N(30, p3, q3)\n",
    "\n",
    "plt.figure()\n",
    "plt.plot(df8['t'], df8['N'], label = \"Discrete\")\n",
    "plt.plot(df8['t'], N9, label = \"Continuous\")\n",
    "plt.title(label = (p3, q3))\n",
    "plt.legend()"
   ]
  },
  {
   "cell_type": "markdown",
   "id": "e30e60b9-2ef6-4d46-8afd-e43ce9b55ef6",
   "metadata": {},
   "source": [
    "## Q5"
   ]
  },
  {
   "cell_type": "code",
   "execution_count": 24,
   "id": "4d1e82d2-8ecf-4a01-97e0-9eb7e042c029",
   "metadata": {},
   "outputs": [],
   "source": [
    "df['X1'] = M - df['A']\n",
    "df['X2'] = df['A'] - (df['A_sq']/M)"
   ]
  },
  {
   "cell_type": "code",
   "execution_count": 25,
   "id": "016dbf32-c779-4752-b360-5d59da8071ed",
   "metadata": {},
   "outputs": [
    {
     "name": "stdout",
     "output_type": "stream",
     "text": [
      "                                 OLS Regression Results                                \n",
      "=======================================================================================\n",
      "Dep. Variable:                      N   R-squared (uncentered):                   0.991\n",
      "Model:                            OLS   Adj. R-squared (uncentered):              0.990\n",
      "Method:                 Least Squares   F-statistic:                              662.7\n",
      "Date:                Mon, 10 Apr 2023   Prob (F-statistic):                    5.22e-13\n",
      "Time:                        13:53:40   Log-Likelihood:                          23.181\n",
      "No. Observations:                  14   AIC:                                     -42.36\n",
      "Df Residuals:                      12   BIC:                                     -41.08\n",
      "Df Model:                           2                                                  \n",
      "Covariance Type:            nonrobust                                                  \n",
      "==============================================================================\n",
      "                 coef    std err          t      P>|t|      [0.025      0.975]\n",
      "------------------------------------------------------------------------------\n",
      "X1             0.0011      0.000      5.277      0.000       0.001       0.001\n",
      "X2             0.1937      0.009     20.391      0.000       0.173       0.214\n",
      "==============================================================================\n",
      "Omnibus:                        4.235   Durbin-Watson:                   3.691\n",
      "Prob(Omnibus):                  0.120   Jarque-Bera (JB):                1.433\n",
      "Skew:                           0.302   Prob(JB):                        0.488\n",
      "Kurtosis:                       1.554   Cond. No.                         70.1\n",
      "==============================================================================\n",
      "\n",
      "Notes:\n",
      "[1] R² is computed without centering (uncentered) since the model does not contain a constant.\n",
      "[2] Standard Errors assume that the covariance matrix of the errors is correctly specified.\n"
     ]
    },
    {
     "name": "stderr",
     "output_type": "stream",
     "text": [
      "/Users/sarvaripidaparty/opt/anaconda3/lib/python3.9/site-packages/scipy/stats/stats.py:1541: UserWarning: kurtosistest only valid for n>=20 ... continuing anyway, n=14\n",
      "  warnings.warn(\"kurtosistest only valid for n>=20 ... continuing \"\n"
     ]
    }
   ],
   "source": [
    "model2 = smf.ols(formula = 'N ~ X1 + X2 - 1', data = df).fit() #-1 in the formula to get rid of the intercept\n",
    "print(model2.summary())"
   ]
  },
  {
   "cell_type": "code",
   "execution_count": 26,
   "id": "9ce4b401-147d-411f-bce4-a07cd591cb49",
   "metadata": {},
   "outputs": [
    {
     "data": {
      "text/plain": [
       "(0.001, 0.194)"
      ]
     },
     "execution_count": 26,
     "metadata": {},
     "output_type": "execute_result"
    }
   ],
   "source": [
    "p = round(model2.params[0],3)\n",
    "q = round(model2.params[1],3)\n",
    "p, q"
   ]
  }
 ],
 "metadata": {
  "kernelspec": {
   "display_name": "Python 3 (ipykernel)",
   "language": "python",
   "name": "python3"
  },
  "language_info": {
   "codemirror_mode": {
    "name": "ipython",
    "version": 3
   },
   "file_extension": ".py",
   "mimetype": "text/x-python",
   "name": "python",
   "nbconvert_exporter": "python",
   "pygments_lexer": "ipython3",
   "version": "3.9.13"
  }
 },
 "nbformat": 4,
 "nbformat_minor": 5
}
